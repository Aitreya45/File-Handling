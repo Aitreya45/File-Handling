{
 "cells": [
  {
   "cell_type": "markdown",
   "metadata": {},
   "source": [
    "**OS module provides functionality to perform operating system dependent operation such as creating directories, renaming and removing files and many other tasks**"
   ]
  },
  {
   "cell_type": "code",
   "execution_count": 1,
   "metadata": {},
   "outputs": [],
   "source": [
    "import os"
   ]
  },
  {
   "cell_type": "markdown",
   "metadata": {},
   "source": [
    "**Some Popular OS operations**"
   ]
  },
  {
   "cell_type": "code",
   "execution_count": 2,
   "metadata": {},
   "outputs": [
    {
     "data": {
      "text/plain": [
       "'C:\\\\Users\\\\hp\\\\Documents'"
      ]
     },
     "execution_count": 2,
     "metadata": {},
     "output_type": "execute_result"
    }
   ],
   "source": [
    "#To show current working directory\n",
    "os.getcwd()"
   ]
  },
  {
   "cell_type": "code",
   "execution_count": 3,
   "metadata": {},
   "outputs": [],
   "source": [
    "#To create a new folder\n",
    "os.makedirs(\"C:\\\\Users\\\\hp\\\\Documents\\\\File handling in Python\")"
   ]
  },
  {
   "cell_type": "code",
   "execution_count": 4,
   "metadata": {},
   "outputs": [],
   "source": [
    "#Opening a File and setting flags\n",
    "file = os.open(\"C:\\\\Users\\\\hp\\\\Documents\\\\File handling in Python\\\\IndiaSuperPower\",os.O_RDWR | os.O_CREAT)"
   ]
  },
  {
   "cell_type": "code",
   "execution_count": 8,
   "metadata": {},
   "outputs": [
    {
     "data": {
      "text/plain": [
       "['$AV_ASW',\n",
       " '$Recycle.Bin',\n",
       " '.fseventsd',\n",
       " '.Spotlight-V100',\n",
       " 'AMTAG.BIN',\n",
       " 'Aomei',\n",
       " 'BOOTNXT',\n",
       " 'bootTel.dat',\n",
       " 'Config.Msi',\n",
       " 'debug1214.txt',\n",
       " 'Documents',\n",
       " 'Documents and Settings',\n",
       " 'hiberfil.sys',\n",
       " 'hp',\n",
       " 'inetpub',\n",
       " 'Intel',\n",
       " 'jdk-8u31-windows-i586.exe',\n",
       " 'jdk-8u74-windows-x64.exe',\n",
       " 'MagicPlusMini',\n",
       " 'MyDrivers',\n",
       " 'National Instruments Downloads',\n",
       " 'OneDriveTemp',\n",
       " 'pagefile.sys',\n",
       " 'PerfLogs',\n",
       " 'Program Files',\n",
       " 'Program Files (x86)',\n",
       " 'ProgramData',\n",
       " 'Recovery',\n",
       " 'swapfile.sys',\n",
       " 'SWSetup',\n",
       " 'System Volume Information',\n",
       " 'SYSTEM.SAV',\n",
       " 'Users',\n",
       " 'Windows']"
      ]
     },
     "execution_count": 8,
     "metadata": {},
     "output_type": "execute_result"
    }
   ],
   "source": [
    "#To List the content to a folder\n",
    "os.listdir(\"C:\\\\\")"
   ]
  },
  {
   "cell_type": "code",
   "execution_count": 9,
   "metadata": {},
   "outputs": [],
   "source": [
    "#To change directory\n",
    "os.chdir('C:\\\\Users\\\\hp\\\\Documents\\\\File handling in Python')"
   ]
  },
  {
   "cell_type": "code",
   "execution_count": 10,
   "metadata": {},
   "outputs": [],
   "source": [
    "#To rename directory\n",
    "os.rename('C:\\\\Users\\\\hp\\\\Documents\\\\File handling in Python\\\\IndiaSuperPower.txt',\n",
    "          'C:\\\\Users\\\\hp\\\\Documents\\\\File handling in Python\\\\IndiaGlobalSuperPower.txt')"
   ]
  },
  {
   "cell_type": "markdown",
   "metadata": {},
   "source": [
    "### File Handling "
   ]
  },
  {
   "cell_type": "code",
   "execution_count": 74,
   "metadata": {},
   "outputs": [],
   "source": [
    "file = open('C:\\\\Users\\\\hp\\\\Documents\\\\File handling in Python\\\\IndiaGlobalSuperPower.txt',\"r\")"
   ]
  },
  {
   "cell_type": "code",
   "execution_count": 75,
   "metadata": {
    "scrolled": false
   },
   "outputs": [
    {
     "data": {
      "text/plain": [
       "\"'DOES INDIA NEED TO BECOME NEXT SUPER POWER?  WHEN-WHY -HOW?\\\\n\\\\n\\\\n Does India have arrived to stage to become a super power? If so, what notion of super power India has to pursue. What aspects of economic, diplomatic, technological, socio- cultural spheres does India need to prioritize? \\\\n\\\\tAbove cited sentence is apparently rhetoric, but at the same time those are the questions with embedded answers. We usually associate superpower word with former colonies like 19 century Britain and 20th century USA and Russia (or former USSR) because of their political and economic hegemony over world that ran almost unchallenged. Post Soviet Union disintegration, America is the single world power since then. We often ignore the fact that they evolved to present form from crises that span from economic, cultural, ethnic, and political to the current levels. USA continue to face problems like internal security vis-a vis gun shootings at colleges and schools, sovereign debt, diplomatic slide (regarding Syria, Palestine gaining hold in UN, Iran, BRIC countries planning to trade in their currencies, and in political sphere its shut down over accepting budget in house of representatives). As isolated events they do not leave a mark in USAÃ¢â‚¬â„¢s super power status. But it is noteworthy that a super power is not a nation with big influence only but also a nation with impeccable internal strength and support. Also, there are other countries that have commendable position in other fields  like Europe in services, Scandinavian countries in technology( refining, financial ), east Asian nations in manufacturing like cars, electronics and OPEC nations and African countries in  mineral resources. A small nation, Bhutan, took a brave step of pursuing happiness as its goal than just economic development. Norway, on the other hand, is emerging as a peace negotiator. Small European nations like Ireland and Sweden are pursuing transparency and freedom of digital world. In other words, nations are emerging in different aspects and judged differently from others standpoint. Bhutan, Norway may be in eyes of their thinkers can be gauged as happy nations than simple powerful nation.\\\\t\\\\n'\""
      ]
     },
     "execution_count": 75,
     "metadata": {},
     "output_type": "execute_result"
    }
   ],
   "source": [
    "file.read()"
   ]
  },
  {
   "cell_type": "code",
   "execution_count": 76,
   "metadata": {},
   "outputs": [
    {
     "data": {
      "text/plain": [
       "''"
      ]
     },
     "execution_count": 76,
     "metadata": {},
     "output_type": "execute_result"
    }
   ],
   "source": [
    "file.read() #If we read again then it will return us nothing because the cursor is already at beginning"
   ]
  },
  {
   "cell_type": "code",
   "execution_count": 77,
   "metadata": {
    "scrolled": true
   },
   "outputs": [
    {
     "data": {
      "text/plain": [
       "0"
      ]
     },
     "execution_count": 77,
     "metadata": {},
     "output_type": "execute_result"
    }
   ],
   "source": [
    "file.seek(0)"
   ]
  },
  {
   "cell_type": "code",
   "execution_count": 78,
   "metadata": {},
   "outputs": [
    {
     "data": {
      "text/plain": [
       "\"'DOES INDIA NEED TO BECOME NEXT SUPER POWER?  WHEN-WHY -HOW?\\\\n\\\\n\\\\n Does India have arrived to stage to become a super power? If so, what notion of super power India has to pursue. What aspects of economic, diplomatic, technological, socio- cultural spheres does India need to prioritize? \\\\n\\\\tAbove cited sentence is apparently rhetoric, but at the same time those are the questions with embedded answers. We usually associate superpower word with former colonies like 19 century Britain and 20th century USA and Russia (or former USSR) because of their political and economic hegemony over world that ran almost unchallenged. Post Soviet Union disintegration, America is the single world power since then. We often ignore the fact that they evolved to present form from crises that span from economic, cultural, ethnic, and political to the current levels. USA continue to face problems like internal security vis-a vis gun shootings at colleges and schools, sovereign debt, diplomatic slide (regarding Syria, Palestine gaining hold in UN, Iran, BRIC countries planning to trade in their currencies, and in political sphere its shut down over accepting budget in house of representatives). As isolated events they do not leave a mark in USAÃ¢â‚¬â„¢s super power status. But it is noteworthy that a super power is not a nation with big influence only but also a nation with impeccable internal strength and support. Also, there are other countries that have commendable position in other fields  like Europe in services, Scandinavian countries in technology( refining, financial ), east Asian nations in manufacturing like cars, electronics and OPEC nations and African countries in  mineral resources. A small nation, Bhutan, took a brave step of pursuing happiness as its goal than just economic development. Norway, on the other hand, is emerging as a peace negotiator. Small European nations like Ireland and Sweden are pursuing transparency and freedom of digital world. In other words, nations are emerging in different aspects and judged differently from others standpoint. Bhutan, Norway may be in eyes of their thinkers can be gauged as happy nations than simple powerful nation.\\\\t\\\\n'\""
      ]
     },
     "execution_count": 78,
     "metadata": {},
     "output_type": "execute_result"
    }
   ],
   "source": [
    "file.read()"
   ]
  },
  {
   "cell_type": "code",
   "execution_count": 79,
   "metadata": {},
   "outputs": [],
   "source": [
    "file = open('C:\\\\Users\\\\hp\\\\Documents\\\\File handling in Python\\\\IndiaGlobalSuperPower.txt',\"r\")"
   ]
  },
  {
   "cell_type": "code",
   "execution_count": 80,
   "metadata": {},
   "outputs": [
    {
     "name": "stdout",
     "output_type": "stream",
     "text": [
      "'DOES INDIA NEED TO BECOME NEXT SUPER POWER?  WHEN-WHY -HOW?\\n\\n\\n Does India have arrived to stage to become a super power? If so, what notion of super power India has to pursue. What aspects of economic, diplomatic, technological, socio- cultural spheres does India need to prioritize? \\n\\tAbove cited sentence is apparently rhetoric, but at the same time those are the questions with embedded answers. We usually associate superpower word with former colonies like 19 century Britain and 20th century USA and Russia (or former USSR) because of their political and economic hegemony over world that ran almost unchallenged. Post Soviet Union disintegration, America is the single world power since then. We often ignore the fact that they evolved to present form from crises that span from economic, cultural, ethnic, and political to the current levels. USA continue to face problems like internal security vis-a vis gun shootings at colleges and schools, sovereign debt, diplomatic slide (regarding Syria, Palestine gaining hold in UN, Iran, BRIC countries planning to trade in their currencies, and in political sphere its shut down over accepting budget in house of representatives). As isolated events they do not leave a mark in USAÃ¢â‚¬â„¢s super power status. But it is noteworthy that a super power is not a nation with big influence only but also a nation with impeccable internal strength and support. Also, there are other countries that have commendable position in other fields  like Europe in services, Scandinavian countries in technology( refining, financial ), east Asian nations in manufacturing like cars, electronics and OPEC nations and African countries in  mineral resources. A small nation, Bhutan, took a brave step of pursuing happiness as its goal than just economic development. Norway, on the other hand, is emerging as a peace negotiator. Small European nations like Ireland and Sweden are pursuing transparency and freedom of digital world. In other words, nations are emerging in different aspects and judged differently from others standpoint. Bhutan, Norway may be in eyes of their thinkers can be gauged as happy nations than simple powerful nation.\\t\\n'\n"
     ]
    }
   ],
   "source": [
    "print(file.readline())"
   ]
  },
  {
   "cell_type": "code",
   "execution_count": 81,
   "metadata": {},
   "outputs": [],
   "source": [
    "file.close() #To clear all buffers and close the file"
   ]
  },
  {
   "cell_type": "code",
   "execution_count": 82,
   "metadata": {
    "scrolled": true
   },
   "outputs": [
    {
     "ename": "ValueError",
     "evalue": "I/O operation on closed file.",
     "output_type": "error",
     "traceback": [
      "\u001b[1;31m---------------------------------------------------------------------------\u001b[0m",
      "\u001b[1;31mValueError\u001b[0m                                Traceback (most recent call last)",
      "\u001b[1;32m<ipython-input-82-f95936a690dd>\u001b[0m in \u001b[0;36m<module>\u001b[1;34m\u001b[0m\n\u001b[1;32m----> 1\u001b[1;33m \u001b[0mfile\u001b[0m\u001b[1;33m.\u001b[0m\u001b[0mread\u001b[0m\u001b[1;33m(\u001b[0m\u001b[1;33m)\u001b[0m \u001b[1;31m#Now If we try to read then it will show the below error\u001b[0m\u001b[1;33m\u001b[0m\u001b[1;33m\u001b[0m\u001b[0m\n\u001b[0m",
      "\u001b[1;31mValueError\u001b[0m: I/O operation on closed file."
     ]
    }
   ],
   "source": [
    "file.read() #Now If we try to read then it will show the below error"
   ]
  },
  {
   "cell_type": "markdown",
   "metadata": {},
   "source": [
    "**Writing operation**"
   ]
  },
  {
   "cell_type": "code",
   "execution_count": 117,
   "metadata": {},
   "outputs": [],
   "source": [
    "file2 = open('C:\\\\Users\\\\hp\\\\Documents\\\\File handling in Python\\\\new.txt',\"w+\")"
   ]
  },
  {
   "cell_type": "code",
   "execution_count": 118,
   "metadata": {},
   "outputs": [
    {
     "data": {
      "text/plain": [
       "58"
      ]
     },
     "execution_count": 118,
     "metadata": {},
     "output_type": "execute_result"
    }
   ],
   "source": [
    "file2.write('Cristiano Plays for Juventus and Messi plays for Barcelona')"
   ]
  },
  {
   "cell_type": "code",
   "execution_count": 119,
   "metadata": {},
   "outputs": [
    {
     "data": {
      "text/plain": [
       "'Cristiano Plays for Juventus and Messi plays for Barcelona'"
      ]
     },
     "execution_count": 119,
     "metadata": {},
     "output_type": "execute_result"
    }
   ],
   "source": [
    "# Read the file\n",
    "file2.seek(0)\n",
    "file2.read()"
   ]
  },
  {
   "cell_type": "code",
   "execution_count": 120,
   "metadata": {},
   "outputs": [],
   "source": [
    "file2.close()"
   ]
  },
  {
   "cell_type": "markdown",
   "metadata": {},
   "source": [
    "**Appending**"
   ]
  },
  {
   "cell_type": "code",
   "execution_count": 121,
   "metadata": {},
   "outputs": [
    {
     "data": {
      "text/plain": [
       "33"
      ]
     },
     "execution_count": 121,
     "metadata": {},
     "output_type": "execute_result"
    }
   ],
   "source": [
    "file2 = open('new.txt','a+')\n",
    "file2.write('\\nNeymar plays for PSG ')\n",
    "file2.write('\\nToni Kroos plays for Real Madrid')"
   ]
  },
  {
   "cell_type": "code",
   "execution_count": 122,
   "metadata": {},
   "outputs": [
    {
     "name": "stdout",
     "output_type": "stream",
     "text": [
      "Cristiano Plays for Juventus and Messi plays for Barcelona\n",
      "Neymar plays for PSG \n",
      "Toni Kroos plays for Real Madrid\n"
     ]
    }
   ],
   "source": [
    "file2.seek(0)\n",
    "print(file2.read())"
   ]
  },
  {
   "cell_type": "code",
   "execution_count": 123,
   "metadata": {},
   "outputs": [],
   "source": [
    "file2.close()"
   ]
  },
  {
   "cell_type": "markdown",
   "metadata": {},
   "source": [
    "### Working with PDF files "
   ]
  },
  {
   "cell_type": "code",
   "execution_count": 124,
   "metadata": {},
   "outputs": [],
   "source": [
    "import PyPDF2"
   ]
  },
  {
   "cell_type": "markdown",
   "metadata": {},
   "source": [
    "**Reading**"
   ]
  },
  {
   "cell_type": "code",
   "execution_count": 125,
   "metadata": {},
   "outputs": [],
   "source": [
    "# we read it as a binary with 'rb'\n",
    "f = open('US_Declaration.pdf','rb')"
   ]
  },
  {
   "cell_type": "code",
   "execution_count": 126,
   "metadata": {},
   "outputs": [],
   "source": [
    "pdf_reader = PyPDF2.PdfFileReader(f)"
   ]
  },
  {
   "cell_type": "code",
   "execution_count": 127,
   "metadata": {},
   "outputs": [
    {
     "data": {
      "text/plain": [
       "5"
      ]
     },
     "execution_count": 127,
     "metadata": {},
     "output_type": "execute_result"
    }
   ],
   "source": [
    "pdf_reader.numPages"
   ]
  },
  {
   "cell_type": "code",
   "execution_count": 128,
   "metadata": {},
   "outputs": [],
   "source": [
    "page_one = pdf_reader.getPage(0)"
   ]
  },
  {
   "cell_type": "code",
   "execution_count": 130,
   "metadata": {},
   "outputs": [],
   "source": [
    "page_one_text = page_one.extractText()"
   ]
  },
  {
   "cell_type": "code",
   "execution_count": 131,
   "metadata": {},
   "outputs": [
    {
     "data": {
      "text/plain": [
       "\"Declaration of IndependenceIN CONGRESS, July 4, 1776. The unanimous Declaration of the thirteen united States of America, When in the Course of human events, it becomes necessary for one people to dissolve the\\npolitical bands which have connected them with another, and to assume among the powers of the\\nearth, the separate and equal station to which the Laws of Nature and of Nature's God entitle\\n\\nthem, a decent respect to the opinions of mankind requires that they should declare the causes\\n\\nwhich impel them to the separation. \\nWe hold these truths to be self-evident, that all men are created equal, that they are endowed by\\n\\ntheir Creator with certain unalienable Rights, that among these are Life, Liberty and the pursuit\\nof Happiness.ŠThat to secure these rights, Governments are instituted among Men, deriving\\n\\ntheir just powers from the consent of the governed,ŠThat whenever any Form of Government\\nbecomes destructive of these ends, it is the Right of the People to alter or to abolish it, and to\\ninstitute new Government, laying its foundation on such principles and organizing its powers in\\nsuch form, as to them shall seem most likely to effect their Safety and Happiness. Prudence,\\n\\nindeed, will dictate that Governments long established should not be changed for light and\\ntransient causes; and accordingly all experience hath shewn, that mankind are more disposed to\\nsuffer, while evils are sufferable, than to right themselves by abolishing the forms to which they\\n\\nare accustomed. But when a long train of abuses and usurpations, pursuing invariably the same\\nObject evinces a design to reduce them under absolute Despotism, it is their right, it is their duty,\\nto throw off such Government, and to provide new Guards for their future security.ŠSuch has\\nbeen the patient sufferance of these Colonies; and such is now the necessity which constrains\\n\\nthem to alter their former Systems of Government. The history of the present King of Great\\n\\nBritain is a history of repeated injuries and usurpations, all having in direct object the\\nestablishment of an absolute Tyranny over these States. To prove this, let Facts be submitted to a\\ncandid world. He has refused his Assent to Laws, the most wholesome and necessary for the\\npublic good.\\nHe has forbidden his Governors to pass Laws of immediate and pressing\\nimportance, unless suspended in their operation till his Assent should be obtained;\\nand when so suspended, he has utterly neglected to attend to them.\\n\\nHe has refused to pass other Laws for the accommodation of large districts of\\npeople, unless those people would relinquish the right of Representation in the\\nLegislature, a right inestimable to them and formidable to tyrants only. \\n\\nHe has called together legislative bodies at places unusual, uncomfortable, and distant\\nfrom the depository of their public Records, for the sole purpose of fatiguing them into\\ncompliance with his measures.\\n\""
      ]
     },
     "execution_count": 131,
     "metadata": {},
     "output_type": "execute_result"
    }
   ],
   "source": [
    "page_one_text"
   ]
  },
  {
   "cell_type": "code",
   "execution_count": 132,
   "metadata": {},
   "outputs": [],
   "source": [
    "f.close()"
   ]
  },
  {
   "cell_type": "markdown",
   "metadata": {},
   "source": [
    "**Adding to a new PDF**"
   ]
  },
  {
   "cell_type": "code",
   "execution_count": 133,
   "metadata": {},
   "outputs": [],
   "source": [
    "f = open('US_Declaration.pdf','rb')\n",
    "pdf_reader = PyPDF2.PdfFileReader(f)"
   ]
  },
  {
   "cell_type": "code",
   "execution_count": 134,
   "metadata": {},
   "outputs": [],
   "source": [
    "first_page = pdf_reader.getPage(0)"
   ]
  },
  {
   "cell_type": "code",
   "execution_count": 136,
   "metadata": {},
   "outputs": [],
   "source": [
    "pdf_writer = PyPDF2.PdfFileWriter()"
   ]
  },
  {
   "cell_type": "code",
   "execution_count": 137,
   "metadata": {},
   "outputs": [],
   "source": [
    "pdf_writer.addPage(first_page)"
   ]
  },
  {
   "cell_type": "code",
   "execution_count": 142,
   "metadata": {},
   "outputs": [],
   "source": [
    "pdf_output = open(\"Some_New_Doc.pdf\",\"wb\")"
   ]
  },
  {
   "cell_type": "code",
   "execution_count": 143,
   "metadata": {},
   "outputs": [],
   "source": [
    "pdf_writer.write(pdf_output)"
   ]
  },
  {
   "cell_type": "code",
   "execution_count": 144,
   "metadata": {},
   "outputs": [],
   "source": [
    "pdf_output.close()\n",
    "f.close()"
   ]
  },
  {
   "cell_type": "code",
   "execution_count": null,
   "metadata": {},
   "outputs": [],
   "source": []
  }
 ],
 "metadata": {
  "kernelspec": {
   "display_name": "Python 3",
   "language": "python",
   "name": "python3"
  },
  "language_info": {
   "codemirror_mode": {
    "name": "ipython",
    "version": 3
   },
   "file_extension": ".py",
   "mimetype": "text/x-python",
   "name": "python",
   "nbconvert_exporter": "python",
   "pygments_lexer": "ipython3",
   "version": "3.7.3"
  }
 },
 "nbformat": 4,
 "nbformat_minor": 4
}
